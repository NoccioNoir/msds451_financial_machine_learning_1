{
 "cells": [
  {
   "cell_type": "markdown",
   "metadata": {},
   "source": [
    "## Assignment 1\n",
    "Based off the provide jumpstart script by Professor Miller."
   ]
  },
  {
   "cell_type": "code",
   "execution_count": 2,
   "metadata": {},
   "outputs": [
    {
     "name": "stdout",
     "output_type": "stream",
     "text": [
      "Requirement already satisfied: polars in c:\\users\\ivy\\appdata\\local\\packages\\pythonsoftwarefoundation.python.3.11_qbz5n2kfra8p0\\localcache\\local-packages\\python311\\site-packages (1.31.0)\n",
      "Note: you may need to restart the kernel to use updated packages.\n"
     ]
    }
   ],
   "source": [
    "%pip install polars"
   ]
  },
  {
   "cell_type": "code",
   "execution_count": 3,
   "metadata": {
    "scrolled": true
   },
   "outputs": [],
   "source": [
    "import os\n",
    "# Ignore warnings\n",
    "import warnings\n",
    "warnings.filterwarnings('ignore')\n",
    "warnings.simplefilter(action='ignore', category=FutureWarning)\n",
    "\n",
    "# Import Python Packages for data manipulation, data pipelines, and databases\n",
    "import numpy as np\n",
    "import pyarrow # foundation for polars\n",
    "import polars as pl # DataFrame work superior to Pandas\n",
    "\n",
    "# Plotting\n",
    "import matplotlib.pyplot as plt\n",
    "# Display static plots directly in the notebook output \n",
    "%matplotlib inline\n",
    "# create stylized visualizations, including heat maps\n",
    "import seaborn as sns\n",
    "\n",
    "# Preprocessing\n",
    "from sklearn.preprocessing import MinMaxScaler, StandardScaler\n",
    "from sklearn.pipeline import Pipeline\n",
    "from sklearn.model_selection import (RandomizedSearchCV, \n",
    "                                    TimeSeriesSplit)\n",
    "from sklearn.model_selection import cross_validate\n",
    "\n",
    "# utilized in all possible subsets classification work\n",
    "from sklearn.linear_model import LogisticRegression\n",
    "from sklearn.metrics import log_loss\n",
    "\n",
    "# needed for randomized search\n",
    "from sklearn.model_selection import RandomizedSearchCV\n",
    "from scipy.stats import randint, uniform\n",
    "\n",
    "# metrics in xgboost tuning and final model evaluation\n",
    "from sklearn.metrics import (accuracy_score,\n",
    "                             classification_report, \n",
    "                             roc_curve, \n",
    "                             roc_auc_score,\n",
    "                             RocCurveDisplay,\n",
    "                             ConfusionMatrixDisplay,\n",
    "                             confusion_matrix,\n",
    "                             precision_score,\n",
    "                             recall_score,\n",
    "                             f1_score\n",
    "                            )\n",
    "\n",
    "# XGBoost Package... more complete than SciKit-Learn boosting methods\n",
    "import xgboost as xgb\n",
    "from xgboost import XGBRegressor, XGBClassifier, plot_importance\n",
    "\n",
    "import yfinance as yf  # used earlier to obtain the price series\n",
    "import yfinance as yf\n",
    "\n",
    "import warnings\n",
    "# Suppress warnings for cleaner output\n",
    "warnings.filterwarnings('ignore') "
   ]
  },
  {
   "cell_type": "code",
   "execution_count": 5,
   "metadata": {},
   "outputs": [
    {
     "ename": "YFRateLimitError",
     "evalue": "Too Many Requests. Rate limited. Try after a while.",
     "output_type": "error",
     "traceback": [
      "\u001b[31m---------------------------------------------------------------------------\u001b[39m",
      "\u001b[31mYFRateLimitError\u001b[39m                          Traceback (most recent call last)",
      "\u001b[36mCell\u001b[39m\u001b[36m \u001b[39m\u001b[32mIn[5]\u001b[39m\u001b[32m, line 7\u001b[39m\n\u001b[32m      5\u001b[39m symbol = \u001b[33m'\u001b[39m\u001b[33mT\u001b[39m\u001b[33m'\u001b[39m\n\u001b[32m      6\u001b[39m ticker = yf.Ticker(symbol)\n\u001b[32m----> \u001b[39m\u001b[32m7\u001b[39m historical_data = \u001b[43mticker\u001b[49m\u001b[43m.\u001b[49m\u001b[43mhistory\u001b[49m\u001b[43m(\u001b[49m\u001b[43mstart\u001b[49m\u001b[43m \u001b[49m\u001b[43m=\u001b[49m\u001b[43m \u001b[49m\u001b[43mstart_date\u001b[49m\u001b[43m,\u001b[49m\u001b[43m \u001b[49m\u001b[43mend\u001b[49m\u001b[43m \u001b[49m\u001b[43m=\u001b[49m\u001b[43m \u001b[49m\u001b[43mend_date\u001b[49m\u001b[43m,\u001b[49m\u001b[43m \u001b[49m\u001b[43mperiod\u001b[49m\u001b[43m \u001b[49m\u001b[43m=\u001b[49m\u001b[43m \u001b[49m\u001b[33;43m'\u001b[39;49m\u001b[33;43m1mo\u001b[39;49m\u001b[33;43m'\u001b[39;49m\u001b[43m)\u001b[49m\n\u001b[32m      8\u001b[39m \u001b[38;5;28mprint\u001b[39m(historical_data)\n\u001b[32m     10\u001b[39m \u001b[38;5;28mprint\u001b[39m(\u001b[33m\"\u001b[39m\u001b[33mtype of historical_data\u001b[39m\u001b[33m\"\u001b[39m, \u001b[38;5;28mtype\u001b[39m(historical_data))\n",
      "\u001b[36mFile \u001b[39m\u001b[32m~\\AppData\\Local\\Packages\\PythonSoftwareFoundation.Python.3.11_qbz5n2kfra8p0\\LocalCache\\local-packages\\Python311\\site-packages\\yfinance\\utils.py:104\u001b[39m, in \u001b[36mlog_indent_decorator.<locals>.wrapper\u001b[39m\u001b[34m(*args, **kwargs)\u001b[39m\n\u001b[32m    101\u001b[39m logger.debug(\u001b[33mf\u001b[39m\u001b[33m'\u001b[39m\u001b[33mEntering \u001b[39m\u001b[38;5;132;01m{\u001b[39;00mfunc.\u001b[34m__name__\u001b[39m\u001b[38;5;132;01m}\u001b[39;00m\u001b[33m()\u001b[39m\u001b[33m'\u001b[39m)\n\u001b[32m    103\u001b[39m \u001b[38;5;28;01mwith\u001b[39;00m IndentationContext():\n\u001b[32m--> \u001b[39m\u001b[32m104\u001b[39m     result = \u001b[43mfunc\u001b[49m\u001b[43m(\u001b[49m\u001b[43m*\u001b[49m\u001b[43margs\u001b[49m\u001b[43m,\u001b[49m\u001b[43m \u001b[49m\u001b[43m*\u001b[49m\u001b[43m*\u001b[49m\u001b[43mkwargs\u001b[49m\u001b[43m)\u001b[49m\n\u001b[32m    106\u001b[39m logger.debug(\u001b[33mf\u001b[39m\u001b[33m'\u001b[39m\u001b[33mExiting \u001b[39m\u001b[38;5;132;01m{\u001b[39;00mfunc.\u001b[34m__name__\u001b[39m\u001b[38;5;132;01m}\u001b[39;00m\u001b[33m()\u001b[39m\u001b[33m'\u001b[39m)\n\u001b[32m    107\u001b[39m \u001b[38;5;28;01mreturn\u001b[39;00m result\n",
      "\u001b[36mFile \u001b[39m\u001b[32m~\\AppData\\Local\\Packages\\PythonSoftwareFoundation.Python.3.11_qbz5n2kfra8p0\\LocalCache\\local-packages\\Python311\\site-packages\\yfinance\\base.py:80\u001b[39m, in \u001b[36mTickerBase.history\u001b[39m\u001b[34m(self, *args, **kwargs)\u001b[39m\n\u001b[32m     78\u001b[39m \u001b[38;5;129m@utils\u001b[39m.log_indent_decorator\n\u001b[32m     79\u001b[39m \u001b[38;5;28;01mdef\u001b[39;00m\u001b[38;5;250m \u001b[39m\u001b[34mhistory\u001b[39m(\u001b[38;5;28mself\u001b[39m, *args, **kwargs) -> pd.DataFrame:\n\u001b[32m---> \u001b[39m\u001b[32m80\u001b[39m     \u001b[38;5;28;01mreturn\u001b[39;00m \u001b[38;5;28;43mself\u001b[39;49m\u001b[43m.\u001b[49m\u001b[43m_lazy_load_price_history\u001b[49m\u001b[43m(\u001b[49m\u001b[43m)\u001b[49m\u001b[43m.\u001b[49m\u001b[43mhistory\u001b[49m\u001b[43m(\u001b[49m\u001b[43m*\u001b[49m\u001b[43margs\u001b[49m\u001b[43m,\u001b[49m\u001b[43m \u001b[49m\u001b[43m*\u001b[49m\u001b[43m*\u001b[49m\u001b[43mkwargs\u001b[49m\u001b[43m)\u001b[49m\n",
      "\u001b[36mFile \u001b[39m\u001b[32m~\\AppData\\Local\\Packages\\PythonSoftwareFoundation.Python.3.11_qbz5n2kfra8p0\\LocalCache\\local-packages\\Python311\\site-packages\\yfinance\\utils.py:104\u001b[39m, in \u001b[36mlog_indent_decorator.<locals>.wrapper\u001b[39m\u001b[34m(*args, **kwargs)\u001b[39m\n\u001b[32m    101\u001b[39m logger.debug(\u001b[33mf\u001b[39m\u001b[33m'\u001b[39m\u001b[33mEntering \u001b[39m\u001b[38;5;132;01m{\u001b[39;00mfunc.\u001b[34m__name__\u001b[39m\u001b[38;5;132;01m}\u001b[39;00m\u001b[33m()\u001b[39m\u001b[33m'\u001b[39m)\n\u001b[32m    103\u001b[39m \u001b[38;5;28;01mwith\u001b[39;00m IndentationContext():\n\u001b[32m--> \u001b[39m\u001b[32m104\u001b[39m     result = \u001b[43mfunc\u001b[49m\u001b[43m(\u001b[49m\u001b[43m*\u001b[49m\u001b[43margs\u001b[49m\u001b[43m,\u001b[49m\u001b[43m \u001b[49m\u001b[43m*\u001b[49m\u001b[43m*\u001b[49m\u001b[43mkwargs\u001b[49m\u001b[43m)\u001b[49m\n\u001b[32m    106\u001b[39m logger.debug(\u001b[33mf\u001b[39m\u001b[33m'\u001b[39m\u001b[33mExiting \u001b[39m\u001b[38;5;132;01m{\u001b[39;00mfunc.\u001b[34m__name__\u001b[39m\u001b[38;5;132;01m}\u001b[39;00m\u001b[33m()\u001b[39m\u001b[33m'\u001b[39m)\n\u001b[32m    107\u001b[39m \u001b[38;5;28;01mreturn\u001b[39;00m result\n",
      "\u001b[36mFile \u001b[39m\u001b[32m~\\AppData\\Local\\Packages\\PythonSoftwareFoundation.Python.3.11_qbz5n2kfra8p0\\LocalCache\\local-packages\\Python311\\site-packages\\yfinance\\scrapers\\history.py:175\u001b[39m, in \u001b[36mPriceHistory.history\u001b[39m\u001b[34m(self, period, interval, start, end, prepost, actions, auto_adjust, back_adjust, repair, keepna, proxy, rounding, timeout, raise_errors)\u001b[39m\n\u001b[32m    173\u001b[39m         get_fn = \u001b[38;5;28mself\u001b[39m._data.cache_get\n\u001b[32m    174\u001b[39m \u001b[38;5;28;01mtry\u001b[39;00m:\n\u001b[32m--> \u001b[39m\u001b[32m175\u001b[39m     data = \u001b[43mget_fn\u001b[49m\u001b[43m(\u001b[49m\n\u001b[32m    176\u001b[39m \u001b[43m        \u001b[49m\u001b[43murl\u001b[49m\u001b[43m=\u001b[49m\u001b[43murl\u001b[49m\u001b[43m,\u001b[49m\n\u001b[32m    177\u001b[39m \u001b[43m        \u001b[49m\u001b[43mparams\u001b[49m\u001b[43m=\u001b[49m\u001b[43mparams\u001b[49m\u001b[43m,\u001b[49m\n\u001b[32m    178\u001b[39m \u001b[43m        \u001b[49m\u001b[43mproxy\u001b[49m\u001b[43m=\u001b[49m\u001b[43mproxy\u001b[49m\u001b[43m,\u001b[49m\n\u001b[32m    179\u001b[39m \u001b[43m        \u001b[49m\u001b[43mtimeout\u001b[49m\u001b[43m=\u001b[49m\u001b[43mtimeout\u001b[49m\n\u001b[32m    180\u001b[39m \u001b[43m    \u001b[49m\u001b[43m)\u001b[49m\n\u001b[32m    181\u001b[39m     \u001b[38;5;28;01mif\u001b[39;00m \u001b[33m\"\u001b[39m\u001b[33mWill be right back\u001b[39m\u001b[33m\"\u001b[39m \u001b[38;5;129;01min\u001b[39;00m data.text \u001b[38;5;129;01mor\u001b[39;00m data \u001b[38;5;129;01mis\u001b[39;00m \u001b[38;5;28;01mNone\u001b[39;00m:\n\u001b[32m    182\u001b[39m         \u001b[38;5;28;01mraise\u001b[39;00m \u001b[38;5;167;01mRuntimeError\u001b[39;00m(\u001b[33m\"\u001b[39m\u001b[33m*** YAHOO! FINANCE IS CURRENTLY DOWN! ***\u001b[39m\u001b[38;5;130;01m\\n\u001b[39;00m\u001b[33m\"\u001b[39m\n\u001b[32m    183\u001b[39m                            \u001b[33m\"\u001b[39m\u001b[33mOur engineers are working quickly to resolve \u001b[39m\u001b[33m\"\u001b[39m\n\u001b[32m    184\u001b[39m                            \u001b[33m\"\u001b[39m\u001b[33mthe issue. Thank you for your patience.\u001b[39m\u001b[33m\"\u001b[39m)\n",
      "\u001b[36mFile \u001b[39m\u001b[32m~\\AppData\\Local\\Packages\\PythonSoftwareFoundation.Python.3.11_qbz5n2kfra8p0\\LocalCache\\local-packages\\Python311\\site-packages\\yfinance\\data.py:32\u001b[39m, in \u001b[36mlru_cache_freezeargs.<locals>.wrapped\u001b[39m\u001b[34m(*args, **kwargs)\u001b[39m\n\u001b[32m     30\u001b[39m args = \u001b[38;5;28mtuple\u001b[39m([\u001b[38;5;28mtuple\u001b[39m(arg) \u001b[38;5;28;01mif\u001b[39;00m \u001b[38;5;28misinstance\u001b[39m(arg, \u001b[38;5;28mlist\u001b[39m) \u001b[38;5;28;01melse\u001b[39;00m arg \u001b[38;5;28;01mfor\u001b[39;00m arg \u001b[38;5;129;01min\u001b[39;00m args])\n\u001b[32m     31\u001b[39m kwargs = {k: \u001b[38;5;28mtuple\u001b[39m(v) \u001b[38;5;28;01mif\u001b[39;00m \u001b[38;5;28misinstance\u001b[39m(v, \u001b[38;5;28mlist\u001b[39m) \u001b[38;5;28;01melse\u001b[39;00m v \u001b[38;5;28;01mfor\u001b[39;00m k, v \u001b[38;5;129;01min\u001b[39;00m kwargs.items()}\n\u001b[32m---> \u001b[39m\u001b[32m32\u001b[39m \u001b[38;5;28;01mreturn\u001b[39;00m \u001b[43mfunc\u001b[49m\u001b[43m(\u001b[49m\u001b[43m*\u001b[49m\u001b[43margs\u001b[49m\u001b[43m,\u001b[49m\u001b[43m \u001b[49m\u001b[43m*\u001b[49m\u001b[43m*\u001b[49m\u001b[43mkwargs\u001b[49m\u001b[43m)\u001b[49m\n",
      "\u001b[36mFile \u001b[39m\u001b[32m~\\AppData\\Local\\Packages\\PythonSoftwareFoundation.Python.3.11_qbz5n2kfra8p0\\LocalCache\\local-packages\\Python311\\site-packages\\yfinance\\data.py:416\u001b[39m, in \u001b[36mYfData.cache_get\u001b[39m\u001b[34m(self, url, user_agent_headers, params, proxy, timeout)\u001b[39m\n\u001b[32m    413\u001b[39m \u001b[38;5;129m@lru_cache_freezeargs\u001b[39m\n\u001b[32m    414\u001b[39m \u001b[38;5;129m@lru_cache\u001b[39m(maxsize=cache_maxsize)\n\u001b[32m    415\u001b[39m \u001b[38;5;28;01mdef\u001b[39;00m\u001b[38;5;250m \u001b[39m\u001b[34mcache_get\u001b[39m(\u001b[38;5;28mself\u001b[39m, url, user_agent_headers=\u001b[38;5;28;01mNone\u001b[39;00m, params=\u001b[38;5;28;01mNone\u001b[39;00m, proxy=\u001b[38;5;28;01mNone\u001b[39;00m, timeout=\u001b[32m30\u001b[39m):\n\u001b[32m--> \u001b[39m\u001b[32m416\u001b[39m     \u001b[38;5;28;01mreturn\u001b[39;00m \u001b[38;5;28;43mself\u001b[39;49m\u001b[43m.\u001b[49m\u001b[43mget\u001b[49m\u001b[43m(\u001b[49m\u001b[43murl\u001b[49m\u001b[43m,\u001b[49m\u001b[43m \u001b[49m\u001b[43muser_agent_headers\u001b[49m\u001b[43m,\u001b[49m\u001b[43m \u001b[49m\u001b[43mparams\u001b[49m\u001b[43m,\u001b[49m\u001b[43m \u001b[49m\u001b[43mproxy\u001b[49m\u001b[43m,\u001b[49m\u001b[43m \u001b[49m\u001b[43mtimeout\u001b[49m\u001b[43m)\u001b[49m\n",
      "\u001b[36mFile \u001b[39m\u001b[32m~\\AppData\\Local\\Packages\\PythonSoftwareFoundation.Python.3.11_qbz5n2kfra8p0\\LocalCache\\local-packages\\Python311\\site-packages\\yfinance\\utils.py:104\u001b[39m, in \u001b[36mlog_indent_decorator.<locals>.wrapper\u001b[39m\u001b[34m(*args, **kwargs)\u001b[39m\n\u001b[32m    101\u001b[39m logger.debug(\u001b[33mf\u001b[39m\u001b[33m'\u001b[39m\u001b[33mEntering \u001b[39m\u001b[38;5;132;01m{\u001b[39;00mfunc.\u001b[34m__name__\u001b[39m\u001b[38;5;132;01m}\u001b[39;00m\u001b[33m()\u001b[39m\u001b[33m'\u001b[39m)\n\u001b[32m    103\u001b[39m \u001b[38;5;28;01mwith\u001b[39;00m IndentationContext():\n\u001b[32m--> \u001b[39m\u001b[32m104\u001b[39m     result = \u001b[43mfunc\u001b[49m\u001b[43m(\u001b[49m\u001b[43m*\u001b[49m\u001b[43margs\u001b[49m\u001b[43m,\u001b[49m\u001b[43m \u001b[49m\u001b[43m*\u001b[49m\u001b[43m*\u001b[49m\u001b[43mkwargs\u001b[49m\u001b[43m)\u001b[49m\n\u001b[32m    106\u001b[39m logger.debug(\u001b[33mf\u001b[39m\u001b[33m'\u001b[39m\u001b[33mExiting \u001b[39m\u001b[38;5;132;01m{\u001b[39;00mfunc.\u001b[34m__name__\u001b[39m\u001b[38;5;132;01m}\u001b[39;00m\u001b[33m()\u001b[39m\u001b[33m'\u001b[39m)\n\u001b[32m    107\u001b[39m \u001b[38;5;28;01mreturn\u001b[39;00m result\n",
      "\u001b[36mFile \u001b[39m\u001b[32m~\\AppData\\Local\\Packages\\PythonSoftwareFoundation.Python.3.11_qbz5n2kfra8p0\\LocalCache\\local-packages\\Python311\\site-packages\\yfinance\\data.py:347\u001b[39m, in \u001b[36mYfData.get\u001b[39m\u001b[34m(self, url, user_agent_headers, params, proxy, timeout)\u001b[39m\n\u001b[32m    345\u001b[39m \u001b[38;5;129m@utils\u001b[39m.log_indent_decorator\n\u001b[32m    346\u001b[39m \u001b[38;5;28;01mdef\u001b[39;00m\u001b[38;5;250m \u001b[39m\u001b[34mget\u001b[39m(\u001b[38;5;28mself\u001b[39m, url, user_agent_headers=\u001b[38;5;28;01mNone\u001b[39;00m, params=\u001b[38;5;28;01mNone\u001b[39;00m, proxy=\u001b[38;5;28;01mNone\u001b[39;00m, timeout=\u001b[32m30\u001b[39m):\n\u001b[32m--> \u001b[39m\u001b[32m347\u001b[39m     \u001b[38;5;28;01mreturn\u001b[39;00m \u001b[38;5;28;43mself\u001b[39;49m\u001b[43m.\u001b[49m\u001b[43m_make_request\u001b[49m\u001b[43m(\u001b[49m\u001b[43murl\u001b[49m\u001b[43m,\u001b[49m\u001b[43m \u001b[49m\u001b[43mrequest_method\u001b[49m\u001b[43m \u001b[49m\u001b[43m=\u001b[49m\u001b[43m \u001b[49m\u001b[38;5;28;43mself\u001b[39;49m\u001b[43m.\u001b[49m\u001b[43m_session\u001b[49m\u001b[43m.\u001b[49m\u001b[43mget\u001b[49m\u001b[43m,\u001b[49m\u001b[43m \u001b[49m\u001b[43muser_agent_headers\u001b[49m\u001b[43m=\u001b[49m\u001b[43muser_agent_headers\u001b[49m\u001b[43m,\u001b[49m\u001b[43m \u001b[49m\u001b[43mparams\u001b[49m\u001b[43m=\u001b[49m\u001b[43mparams\u001b[49m\u001b[43m,\u001b[49m\u001b[43m \u001b[49m\u001b[43mproxy\u001b[49m\u001b[43m=\u001b[49m\u001b[43mproxy\u001b[49m\u001b[43m,\u001b[49m\u001b[43m \u001b[49m\u001b[43mtimeout\u001b[49m\u001b[43m=\u001b[49m\u001b[43mtimeout\u001b[49m\u001b[43m)\u001b[49m\n",
      "\u001b[36mFile \u001b[39m\u001b[32m~\\AppData\\Local\\Packages\\PythonSoftwareFoundation.Python.3.11_qbz5n2kfra8p0\\LocalCache\\local-packages\\Python311\\site-packages\\yfinance\\utils.py:104\u001b[39m, in \u001b[36mlog_indent_decorator.<locals>.wrapper\u001b[39m\u001b[34m(*args, **kwargs)\u001b[39m\n\u001b[32m    101\u001b[39m logger.debug(\u001b[33mf\u001b[39m\u001b[33m'\u001b[39m\u001b[33mEntering \u001b[39m\u001b[38;5;132;01m{\u001b[39;00mfunc.\u001b[34m__name__\u001b[39m\u001b[38;5;132;01m}\u001b[39;00m\u001b[33m()\u001b[39m\u001b[33m'\u001b[39m)\n\u001b[32m    103\u001b[39m \u001b[38;5;28;01mwith\u001b[39;00m IndentationContext():\n\u001b[32m--> \u001b[39m\u001b[32m104\u001b[39m     result = \u001b[43mfunc\u001b[49m\u001b[43m(\u001b[49m\u001b[43m*\u001b[49m\u001b[43margs\u001b[49m\u001b[43m,\u001b[49m\u001b[43m \u001b[49m\u001b[43m*\u001b[49m\u001b[43m*\u001b[49m\u001b[43mkwargs\u001b[49m\u001b[43m)\u001b[49m\n\u001b[32m    106\u001b[39m logger.debug(\u001b[33mf\u001b[39m\u001b[33m'\u001b[39m\u001b[33mExiting \u001b[39m\u001b[38;5;132;01m{\u001b[39;00mfunc.\u001b[34m__name__\u001b[39m\u001b[38;5;132;01m}\u001b[39;00m\u001b[33m()\u001b[39m\u001b[33m'\u001b[39m)\n\u001b[32m    107\u001b[39m \u001b[38;5;28;01mreturn\u001b[39;00m result\n",
      "\u001b[36mFile \u001b[39m\u001b[32m~\\AppData\\Local\\Packages\\PythonSoftwareFoundation.Python.3.11_qbz5n2kfra8p0\\LocalCache\\local-packages\\Python311\\site-packages\\yfinance\\data.py:409\u001b[39m, in \u001b[36mYfData._make_request\u001b[39m\u001b[34m(self, url, request_method, user_agent_headers, body, params, proxy, timeout)\u001b[39m\n\u001b[32m    407\u001b[39m     \u001b[38;5;66;03m# Raise exception if rate limited\u001b[39;00m\n\u001b[32m    408\u001b[39m     \u001b[38;5;28;01mif\u001b[39;00m response.status_code == \u001b[32m429\u001b[39m:\n\u001b[32m--> \u001b[39m\u001b[32m409\u001b[39m         \u001b[38;5;28;01mraise\u001b[39;00m YFRateLimitError()\n\u001b[32m    411\u001b[39m \u001b[38;5;28;01mreturn\u001b[39;00m response\n",
      "\u001b[31mYFRateLimitError\u001b[39m: Too Many Requests. Rate limited. Try after a while."
     ]
    }
   ],
   "source": [
    "symbol = 'T'\n",
    "start_date = '2000-01-01'\n",
    "end_date = '2025-05-27'\n",
    "\n",
    "symbol = 'T'\n",
    "ticker = yf.Ticker(symbol)\n",
    "historical_data = ticker.history(start = start_date, end = end_date, period = '1mo')\n",
    "print(historical_data)\n",
    "\n",
    "print(\"type of historical_data\", type(historical_data))\n",
    "\n",
    "historical_data.to_csv(\"T_historical_data.csv\")"
   ]
  },
  {
   "cell_type": "code",
   "execution_count": 6,
   "metadata": {},
   "outputs": [
    {
     "name": "stdout",
     "output_type": "stream",
     "text": [
      "Schema([('Date', Datetime(time_unit='us', time_zone='UTC')), ('Open', Float64), ('High', Float64), ('Low', Float64), ('Close', Float64), ('Volume', Int64), ('Dividends', Float64), ('Stock Splits', Float64)])\n",
      "Schema([('Date', Datetime(time_unit='us', time_zone='UTC')), ('Open', Float64), ('High', Float64), ('Low', Float64), ('Close', Float64), ('Volume', Float64), ('CloseLag1', Float64), ('CloseLag2', Float64), ('CloseLag3', Float64), ('HML', Float64), ('HMLLag1', Float64), ('HMLLag2', Float64), ('HMLLag3', Float64), ('OMC', Float64), ('OMCLag1', Float64), ('OMCLag2', Float64), ('OMCLag3', Float64), ('VolumeLag1', Float64), ('VolumeLag2', Float64), ('VolumeLag3', Float64), ('CloseEMA2', Float64), ('CloseEMA4', Float64), ('CloseEMA8', Float64), ('LogReturn', Float64), ('Target', Int32)])\n"
     ]
    }
   ],
   "source": [
    "att = pl.read_csv(\"T_historical_data.csv\", try_parse_dates=True)\n",
    "\n",
    "# check the original schema\n",
    "print(att.schema)\n",
    "\n",
    "# drop useless columns Dividends and StockSplits\n",
    "att = att.drop(['Dividends', 'Stock Splits'])\n",
    "\n",
    "# create lag price features\n",
    "att = att.with_columns((pl.col('Close')).shift().alias('CloseLag1'))\n",
    "att = att.with_columns((pl.col('CloseLag1')).shift().alias('CloseLag2'))\n",
    "att = att.with_columns((pl.col('CloseLag2')).shift().alias('CloseLag3'))\n",
    "\n",
    "# create high-minus-low (HML) for day and its lags\n",
    "att = att.with_columns((pl.col('High') - pl.col('Low')).alias('HML'))\n",
    "att = att.with_columns((pl.col('HML')).shift().alias('HMLLag1'))\n",
    "att = att.with_columns((pl.col('HMLLag1')).shift().alias('HMLLag2'))\n",
    "att = att.with_columns((pl.col('HMLLag2')).shift().alias('HMLLag3'))\n",
    "\n",
    "# create a net change for the day as the open minus closing price OMC\n",
    "# also create the corresponding lag metrics\n",
    "att = att.with_columns((pl.col('Open') - pl.col('Close')).alias('OMC'))\n",
    "att = att.with_columns((pl.col('OMC')).shift().alias('OMCLag1'))\n",
    "att = att.with_columns((pl.col('OMCLag1')).shift().alias('OMCLag2'))\n",
    "att = att.with_columns((pl.col('OMCLag2')).shift().alias('OMCLag3'))\n",
    "\n",
    "# create volume lag metrics\n",
    "att = att.with_columns((pl.col('Volume')).shift().alias('VolumeLag1'))\n",
    "att = att.with_columns((pl.col('VolumeLag1')).shift().alias('VolumeLag2'))\n",
    "att = att.with_columns((pl.col('VolumeLag2')).shift().alias('VolumeLag3'))\n",
    "\n",
    "# compute 10-day exponential moving averages of closing prices\n",
    "# compute acround CloseLag1 to avoid any \"leakage\" in explanatory variable set\n",
    "# note also the 10-day buffer between train and test in time-series cross-validation\n",
    "att = att.with_columns((pl.col('CloseLag1').ewm_mean(half_life=1,ignore_nulls=True)).alias('CloseEMA2'))\n",
    "att = att.with_columns((pl.col('CloseLag1').ewm_mean(half_life=2,ignore_nulls=True)).alias('CloseEMA4'))\n",
    "att = att.with_columns((pl.col('CloseLag1').ewm_mean(half_life=4,ignore_nulls=True)).alias('CloseEMA8'))\n",
    "\n",
    "# log daily returns\n",
    "att = att.with_columns(np.log(pl.col('Close')/pl.col('CloseLag1')).alias('LogReturn'))\n",
    "\n",
    "# set volume features to Float64 for subsequent use in Numpy arrays\n",
    "att = att.with_columns(\n",
    "    pl.col('Volume').cast(pl.Float64).round(0),\n",
    "    pl.col('VolumeLag1').cast(pl.Float64).round(0),\n",
    "    pl.col('VolumeLag2').cast(pl.Float64).round(0),\n",
    "    pl.col('VolumeLag3').cast(pl.Float64).round(0),\n",
    "    )\n",
    "\n",
    "# round other features to three decimal places for reporting and subsequent analytics\n",
    "att = att.with_columns(\n",
    "    pl.col('Open').round(3),\n",
    "    pl.col('High').round(3),    \n",
    "    pl.col('Low').round(3),\n",
    "    pl.col('Close').round(3),      \n",
    "    pl.col('CloseLag1').round(3),\n",
    "    pl.col('CloseLag2').round(3),  \n",
    "    pl.col('CloseLag3').round(3),\n",
    "    pl.col('HML').round(3),  \n",
    "    pl.col('HMLLag1').round(3),\n",
    "    pl.col('HMLLag2').round(3),  \n",
    "    pl.col('HMLLag3').round(3),\n",
    "    pl.col('OMC').round(3),  \n",
    "    pl.col('OMCLag1').round(3),\n",
    "    pl.col('OMCLag2').round(3),  \n",
    "    pl.col('OMCLag3').round(3), \n",
    "    pl.col('CloseEMA2').round(3),\n",
    "    pl.col('CloseEMA4').round(3), \n",
    "    pl.col('CloseEMA8').round(3))\n",
    "    \n",
    "# define binary target/response 1 = market price up since previous day, 0 = even or down \n",
    "att = att.with_columns(pl.when(pl.col('LogReturn')>0.0).then(pl.lit(1)).otherwise(pl.lit(0)).alias('Target'))\n",
    "\n",
    "print(att.schema)\n",
    "\n",
    "# save to external comma-delimited text file for checking calculations in Excel\n",
    "att.write_csv(\"att-with-computed-features.csv\")"
   ]
  },
  {
   "cell_type": "code",
   "execution_count": 7,
   "metadata": {},
   "outputs": [
    {
     "name": "stdout",
     "output_type": "stream",
     "text": [
      "['statistic', 'Open', 'High', 'Low', 'Close', 'Volume', 'CloseLag1', 'CloseLag2', 'CloseLag3', 'HML', 'HMLLag1', 'HMLLag2', 'HMLLag3', 'OMC', 'OMCLag1', 'OMCLag2', 'OMCLag3', 'VolumeLag1', 'VolumeLag2', 'VolumeLag3', 'CloseEMA2', 'CloseEMA4', 'CloseEMA8', 'LogReturn', 'Target']\n",
      "Schema([('column', String), ('column_0', String), ('column_2', String), ('column_3', String), ('column_4', String), ('column_6', String), ('column_8', String)])\n",
      "┌────────────┬──────────┬────────────────────────┬──────────────────────┬──────────────────────┬───────────────────────┬─────────────────────┐\n",
      "│ column     ┆ column_0 ┆ column_2               ┆ column_3             ┆ column_4             ┆ column_6              ┆ column_8            │\n",
      "╞════════════╪══════════╪════════════════════════╪══════════════════════╪══════════════════════╪═══════════════════════╪═════════════════════╡\n",
      "│ statistic  ┆ count    ┆ mean                   ┆ std                  ┆ min                  ┆ 50%                   ┆ max                 │\n",
      "│ Open       ┆ 6384.0   ┆ 10.635447681704262     ┆ 5.138034641526119    ┆ 2.918                ┆ 10.496                ┆ 27.961              │\n",
      "│ High       ┆ 6384.0   ┆ 10.731755639097745     ┆ 5.177619471467579    ┆ 2.981                ┆ 10.586                ┆ 28.441              │\n",
      "│ Low        ┆ 6384.0   ┆ 10.537763314536342     ┆ 5.104062527938576    ┆ 2.882                ┆ 10.431                ┆ 27.873              │\n",
      "│ Close      ┆ 6384.0   ┆ 10.636420895989973     ┆ 5.1432626738149825   ┆ 2.957                ┆ 10.517                ┆ 28.02               │\n",
      "│ Volume     ┆ 6384.0   ┆ 32330159.3889411       ┆ 20941599.031214613   ┆ 2315676.0            ┆ 29828661.0            ┆ 327097378.0         │\n",
      "│ CloseLag1  ┆ 6384.0   ┆ 10.633125626566416     ┆ 5.139419195901084    ┆ 2.957                ┆ 10.51                 ┆ 28.02               │\n",
      "│ CloseLag2  ┆ 6384.0   ┆ 10.629845081453633     ┆ 5.135678016299709    ┆ 2.957                ┆ 10.502                ┆ 28.02               │\n",
      "│ CloseLag3  ┆ 6384.0   ┆ 10.6265859962406       ┆ 5.131762488427279    ┆ 2.957                ┆ 10.502                ┆ 28.02               │\n",
      "│ HML        ┆ 6384.0   ┆ 0.19398402255639097    ┆ 0.14901477707485197  ┆ 0.021                ┆ 0.157                 ┆ 2.451               │\n",
      "│ HMLLag1    ┆ 6384.0   ┆ 0.19394407894736845    ┆ 0.1490028368058282   ┆ 0.021                ┆ 0.157                 ┆ 2.451               │\n",
      "│ HMLLag2    ┆ 6384.0   ┆ 0.19395708020050126    ┆ 0.14903272766437253  ┆ 0.021                ┆ 0.157                 ┆ 2.451               │\n",
      "│ HMLLag3    ┆ 6384.0   ┆ 0.19395191102756892    ┆ 0.14902767856872806  ┆ 0.021                ┆ 0.157                 ┆ 2.451               │\n",
      "│ OMC        ┆ 6384.0   ┆ -0.0009780701754386009 ┆ 0.1422423228721951   ┆ -1.617               ┆ 0.0                   ┆ 1.682               │\n",
      "│ OMCLag1    ┆ 6384.0   ┆ -0.000985902255639095  ┆ 0.1422403963956346   ┆ -1.617               ┆ 0.0                   ┆ 1.682               │\n",
      "│ OMCLag2    ┆ 6384.0   ┆ -0.0009802631578947338 ┆ 0.14225490726930748  ┆ -1.617               ┆ 0.0                   ┆ 1.682               │\n",
      "│ OMCLag3    ┆ 6384.0   ┆ -0.0009794799498746844 ┆ 0.14225607178451227  ┆ -1.617               ┆ 0.0                   ┆ 1.682               │\n",
      "│ VolumeLag1 ┆ 6384.0   ┆ 32327068.671522558     ┆ 20943138.240683474   ┆ 2315676.0            ┆ 29824159.0            ┆ 327097378.0         │\n",
      "│ VolumeLag2 ┆ 6384.0   ┆ 32324499.16118421      ┆ 20944932.91403537    ┆ 2315676.0            ┆ 29824159.0            ┆ 327097378.0         │\n",
      "│ VolumeLag3 ┆ 6384.0   ┆ 32321050.58286341      ┆ 20947180.028152198   ┆ 2315676.0            ┆ 29824159.0            ┆ 327097378.0         │\n",
      "│ CloseEMA2  ┆ 6384.0   ┆ 10.62984069548872      ┆ 5.133750238139397    ┆ 2.988                ┆ 10.515                ┆ 27.835              │\n",
      "│ CloseEMA4  ┆ 6384.0   ┆ 10.625160714285714     ┆ 5.126395736166816    ┆ 3.033                ┆ 10.505                ┆ 27.651              │\n",
      "│ CloseEMA8  ┆ 6384.0   ┆ 10.615649122807016     ┆ 5.111912771151149    ┆ 3.119                ┆ 10.47                 ┆ 27.33               │\n",
      "│ LogReturn  ┆ 6384.0   ┆ 0.00023357086158174454 ┆ 0.016170580770061803 ┆ -0.13537558745978331 ┆ 0.0005341168871811484 ┆ 0.15083174448600575 │\n",
      "│ Target     ┆ 6384.0   ┆ 0.5137844611528822     ┆ 0.4998491026284709   ┆ 0.0                  ┆ 1.0                   ┆ 1.0                 │\n",
      "└────────────┴──────────┴────────────────────────┴──────────────────────┴──────────────────────┴───────────────────────┴─────────────────────┘\n"
     ]
    }
   ],
   "source": [
    "# Drop the rows with null values such as the initial lag rows\n",
    "att = att.drop_nulls()\n",
    "\n",
    "# Descriptive statistics\n",
    "attStatistics = att.drop('Date').describe()\n",
    "\n",
    "print(attStatistics.columns)\n",
    "\n",
    "attStatisticsToPrint = attStatistics.transpose(include_header=True).drop(['column_1', 'column_5', 'column_7'])\n",
    "\n",
    "print(attStatisticsToPrint.schema)\n",
    "\n",
    "with pl.Config(\n",
    "    tbl_rows = 60,\n",
    "    tbl_width_chars = 200,\n",
    "    tbl_cols = -1,\n",
    "    float_precision = 3,\n",
    "    tbl_hide_dataframe_shape = True,\n",
    "    tbl_hide_column_data_types = True):\n",
    "    print(attStatisticsToPrint)\n",
    "\n"
   ]
  },
  {
   "cell_type": "code",
   "execution_count": 8,
   "metadata": {},
   "outputs": [
    {
     "data": {
      "text/html": [
       "<div><style>\n",
       ".dataframe > thead > tr,\n",
       ".dataframe > tbody > tr {\n",
       "  text-align: right;\n",
       "  white-space: pre-wrap;\n",
       "}\n",
       "</style>\n",
       "<small>shape: (5, 15)</small><table border=\"1\" class=\"dataframe\"><thead><tr><th>CloseLag1</th><th>CloseLag2</th><th>CloseLag3</th><th>HMLLag1</th><th>HMLLag2</th><th>HMLLag3</th><th>OMCLag1</th><th>OMCLag2</th><th>OMCLag3</th><th>VolumeLag1</th><th>VolumeLag2</th><th>VolumeLag3</th><th>CloseEMA2</th><th>CloseEMA4</th><th>CloseEMA8</th></tr><tr><td>f64</td><td>f64</td><td>f64</td><td>f64</td><td>f64</td><td>f64</td><td>f64</td><td>f64</td><td>f64</td><td>f64</td><td>f64</td><td>f64</td><td>f64</td><td>f64</td><td>f64</td></tr></thead><tbody><tr><td>6.112</td><td>6.018</td><td>6.392</td><td>0.111</td><td>0.578</td><td>0.323</td><td>0.009</td><td>0.383</td><td>0.213</td><td>1.203516e7</td><td>9.497846e6</td><td>7.668476e6</td><td>6.125</td><td>6.145</td><td>6.159</td></tr><tr><td>5.993</td><td>6.112</td><td>6.018</td><td>0.257</td><td>0.111</td><td>0.578</td><td>0.111</td><td>0.009</td><td>0.383</td><td>9.471366e6</td><td>1.203516e7</td><td>9.497846e6</td><td>6.055</td><td>6.086</td><td>6.106</td></tr><tr><td>6.045</td><td>5.993</td><td>6.112</td><td>0.188</td><td>0.257</td><td>0.111</td><td>0.06</td><td>0.111</td><td>0.009</td><td>7.792534e6</td><td>9.471366e6</td><td>1.203516e7</td><td>6.05</td><td>6.071</td><td>6.089</td></tr><tr><td>6.13</td><td>6.045</td><td>5.993</td><td>0.103</td><td>0.188</td><td>0.257</td><td>-0.0</td><td>0.06</td><td>0.111</td><td>9.425159e6</td><td>7.792534e6</td><td>9.471366e6</td><td>6.091</td><td>6.091</td><td>6.099</td></tr><tr><td>6.045</td><td>6.13</td><td>6.045</td><td>0.154</td><td>0.103</td><td>0.188</td><td>0.077</td><td>-0.0</td><td>0.06</td><td>8.569987e6</td><td>9.425159e6</td><td>7.792534e6</td><td>6.067</td><td>6.076</td><td>6.087</td></tr></tbody></table></div>"
      ],
      "text/plain": [
       "shape: (5, 15)\n",
       "┌───────────┬───────────┬───────────┬─────────┬───┬────────────┬───────────┬───────────┬───────────┐\n",
       "│ CloseLag1 ┆ CloseLag2 ┆ CloseLag3 ┆ HMLLag1 ┆ … ┆ VolumeLag3 ┆ CloseEMA2 ┆ CloseEMA4 ┆ CloseEMA8 │\n",
       "│ ---       ┆ ---       ┆ ---       ┆ ---     ┆   ┆ ---        ┆ ---       ┆ ---       ┆ ---       │\n",
       "│ f64       ┆ f64       ┆ f64       ┆ f64     ┆   ┆ f64        ┆ f64       ┆ f64       ┆ f64       │\n",
       "╞═══════════╪═══════════╪═══════════╪═════════╪═══╪════════════╪═══════════╪═══════════╪═══════════╡\n",
       "│ 6.112     ┆ 6.018     ┆ 6.392     ┆ 0.111   ┆ … ┆ 7.668476e6 ┆ 6.125     ┆ 6.145     ┆ 6.159     │\n",
       "│ 5.993     ┆ 6.112     ┆ 6.018     ┆ 0.257   ┆ … ┆ 9.497846e6 ┆ 6.055     ┆ 6.086     ┆ 6.106     │\n",
       "│ 6.045     ┆ 5.993     ┆ 6.112     ┆ 0.188   ┆ … ┆ 1.203516e7 ┆ 6.05      ┆ 6.071     ┆ 6.089     │\n",
       "│ 6.13      ┆ 6.045     ┆ 5.993     ┆ 0.103   ┆ … ┆ 9.471366e6 ┆ 6.091     ┆ 6.091     ┆ 6.099     │\n",
       "│ 6.045     ┆ 6.13      ┆ 6.045     ┆ 0.154   ┆ … ┆ 7.792534e6 ┆ 6.067     ┆ 6.076     ┆ 6.087     │\n",
       "└───────────┴───────────┴───────────┴─────────┴───┴────────────┴───────────┴───────────┴───────────┘"
      ]
     },
     "execution_count": 8,
     "metadata": {},
     "output_type": "execute_result"
    }
   ],
   "source": [
    "# Select Features for the Model, exclude current day price variables ... no \"leakage\"\n",
    "# note for moving averages, we have excluded the current day, and provide a 10-day gap\n",
    "# so these may be included in the set \n",
    "X = att.drop(['Date', 'LogReturn', 'Target', 'Open', 'High', 'Low', 'Close', 'Volume', 'HML', 'OMC'])\n",
    "X.head()"
   ]
  },
  {
   "cell_type": "code",
   "execution_count": 9,
   "metadata": {},
   "outputs": [
    {
     "name": "stdout",
     "output_type": "stream",
     "text": [
      "shape: (9, 2)\n",
      "┌────────────┬───────────┐\n",
      "│ statistic  ┆ value     │\n",
      "│ ---        ┆ ---       │\n",
      "│ str        ┆ f64       │\n",
      "╞════════════╪═══════════╡\n",
      "│ count      ┆ 6384.0    │\n",
      "│ null_count ┆ 0.0       │\n",
      "│ mean       ┆ 0.000234  │\n",
      "│ std        ┆ 0.016171  │\n",
      "│ min        ┆ -0.135376 │\n",
      "│ 25%        ┆ -0.007079 │\n",
      "│ 50%        ┆ 0.000534  │\n",
      "│ 75%        ┆ 0.007749  │\n",
      "│ max        ┆ 0.150832  │\n",
      "└────────────┴───────────┘\n"
     ]
    }
   ],
   "source": [
    "# Define and examine the target for regression model development\n",
    "print(att['LogReturn'].describe())\n",
    "\n",
    "y = np.array(att['LogReturn'])\n"
   ]
  },
  {
   "cell_type": "code",
   "execution_count": 10,
   "metadata": {},
   "outputs": [
    {
     "name": "stdout",
     "output_type": "stream",
     "text": [
      "Feature names correspond to Numpy array columns: ['CloseLag1', 'CloseLag2', 'CloseLag3', 'HMLLag1', 'HMLLag2', 'HMLLag3', 'OMCLag1', 'OMCLag2', 'OMCLag3', 'VolumeLag1', 'VolumeLag2', 'VolumeLag3', 'CloseEMA2', 'CloseEMA4', 'CloseEMA8']\n"
     ]
    }
   ],
   "source": [
    "# Standardize features\n",
    "featureNames = X.columns\n",
    "print(\"Feature names correspond to Numpy array columns:\",featureNames)\n",
    "scaler = StandardScaler()\n",
    "X = scaler.fit_transform(np.array(X))"
   ]
  },
  {
   "cell_type": "code",
   "execution_count": 11,
   "metadata": {},
   "outputs": [
    {
     "name": "stdout",
     "output_type": "stream",
     "text": [
      "shape: (2, 2)\n",
      "┌────────┬───────┐\n",
      "│ Target ┆ count │\n",
      "│ ---    ┆ ---   │\n",
      "│ i32    ┆ u32   │\n",
      "╞════════╪═══════╡\n",
      "│ 0      ┆ 3104  │\n",
      "│ 1      ┆ 3280  │\n",
      "└────────┴───────┘\n"
     ]
    }
   ],
   "source": [
    "# Define and examine the target for classification model development\n",
    "print(att['Target'].value_counts())\n",
    "\n",
    "y = np.array(att['Target'])"
   ]
  },
  {
   "cell_type": "code",
   "execution_count": 12,
   "metadata": {},
   "outputs": [],
   "source": [
    "# Polars DataFrame for storing results from all possible subsets \n",
    "resultsSchema = {\"trialNumber\": pl.Int64, \"features\": pl.String, 'aic': pl.Float64} \n",
    "resultsDataFrame = pl.DataFrame(schema = resultsSchema) \n",
    "\n",
    "def getAIC(X, y): \n",
    "    model = LogisticRegression()\n",
    "    model.fit(X, y)\n",
    "    # Calculate log-likelihood\n",
    "    loglik = -log_loss(y, model.predict_proba(X)) * len(y)    \n",
    "    # Calculate the number of parameters\n",
    "    k = X.shape[1] + 1    \n",
    "    # Calculate AIC... smaller is better\n",
    "    aic = 2 * k -2 * loglik     \n",
    "    # print(f\"AIC: {aic}\") # print for initial testing\n",
    "    return aic\n",
    "\n",
    "from itertools import chain, combinations\n",
    "\n",
    "def powerset(iterable):\n",
    "    s = list(iterable)\n",
    "    return chain.from_iterable(combinations(s, r) for r in range(1, len(s)))\n",
    "\n",
    "trialNumber = 0 # initialize count\n",
    "for c in powerset(range(X.shape[1])):\n",
    "    trialNumber = trialNumber + 1\n",
    "    # print(c)\n",
    "    thisAIC = getAIC(X[:,c], y)\n",
    "    thisTrialDataFrame = pl.DataFrame({\"trialNumber\": trialNumber,\n",
    "                                       \"features\": ' '.join(map(str, c)),\n",
    "                                       \"aic\": thisAIC},\n",
    "                                        schema=resultsSchema)          \n",
    "    resultsDataFrame = pl.concat([resultsDataFrame,thisTrialDataFrame])\n",
    "\n",
    "# one more set of features... all features\n",
    "trialNumber = trialNumber + 1\n",
    "thisAIC = getAIC(X, y)\n",
    "thisTrialDataFrame = pl.DataFrame({\"trialNumber\": trialNumber,\n",
    "                                   \"features\": \"0 1 2 3 4 5 6 7 8 9 10 11 12 13 14\",\n",
    "                                   \"aic\": thisAIC},\n",
    "                                    schema=resultsSchema, strict=False)          \n",
    "resultsDataFrame = pl.concat([resultsDataFrame,thisTrialDataFrame])\n"
   ]
  },
  {
   "cell_type": "code",
   "execution_count": 13,
   "metadata": {},
   "outputs": [
    {
     "name": "stdout",
     "output_type": "stream",
     "text": [
      "shape: (10, 3)\n",
      "┌─────────────┬───────────────┬─────────────┐\n",
      "│ trialNumber ┆ features      ┆ aic         │\n",
      "│ ---         ┆ ---           ┆ ---         │\n",
      "│ i64         ┆ str           ┆ f64         │\n",
      "╞═════════════╪═══════════════╪═════════════╡\n",
      "│ 2573        ┆ 0 3 7 11 14   ┆ 8835.163629 │\n",
      "│ 771         ┆ 0 3 11 14     ┆ 8835.911349 │\n",
      "│ 6319        ┆ 0 3 5 7 11 14 ┆ 8836.012643 │\n",
      "│ 2572        ┆ 0 3 7 11 13   ┆ 8836.108487 │\n",
      "│ 6425        ┆ 0 3 7 8 11 14 ┆ 8836.31056  │\n",
      "│ 6316        ┆ 0 3 5 7 10 14 ┆ 8836.341792 │\n",
      "│ 4444        ┆ 3 7 11 12 14  ┆ 8836.494711 │\n",
      "│ 3783        ┆ 2 3 7 11 14   ┆ 8836.666523 │\n",
      "│ 2570        ┆ 0 3 7 10 14   ┆ 8836.706542 │\n",
      "│ 5785        ┆ 0 2 3 7 11 14 ┆ 8836.760449 │\n",
      "└─────────────┴───────────────┴─────────────┘\n"
     ]
    }
   ],
   "source": [
    "print(resultsDataFrame.sort('aic').head(10))"
   ]
  },
  {
   "cell_type": "markdown",
   "metadata": {},
   "source": [
    "### Selected Feature Subset\n",
    "Reviewing the ten lowest *AIC* models, we selected five features for subsequent model development:\n",
    "- **HMLLag1** Lag-one high minus low daily prices\n",
    "- **HMLLag3** Lag-three high minus low daily prices\n",
    "- **OMCLag2** Lag-two open minus closing daily prices\n",
    "- **VolumeLag3** Lag-three daily volume\n",
    "- **CloseEMA8** Exponential moving average across eight days"
   ]
  },
  {
   "cell_type": "code",
   "execution_count": 16,
   "metadata": {},
   "outputs": [
    {
     "name": "stdout",
     "output_type": "stream",
     "text": [
      "shape: (7, 7)\n",
      "┌───────────┬───────────┬───────────┬───────────┬───────────┬────────────┬───────────┐\n",
      "│ LogReturn ┆ CloseLag1 ┆ HMLLag1   ┆ HMLLag3   ┆ OMCLag2   ┆ VolumeLag3 ┆ CloseEMA8 │\n",
      "│ ---       ┆ ---       ┆ ---       ┆ ---       ┆ ---       ┆ ---        ┆ ---       │\n",
      "│ f64       ┆ f64       ┆ f64       ┆ f64       ┆ f64       ┆ f64        ┆ f64       │\n",
      "╞═══════════╪═══════════╪═══════════╪═══════════╪═══════════╪════════════╪═══════════╡\n",
      "│ 1.0       ┆ -0.004836 ┆ -0.00079  ┆ 0.009045  ┆ 0.037389  ┆ 0.031179   ┆ -0.002579 │\n",
      "│ -0.004836 ┆ 1.0       ┆ 0.49294   ┆ 0.491112  ┆ -0.051559 ┆ 0.426213   ┆ 0.998854  │\n",
      "│ -0.00079  ┆ 0.49294   ┆ 1.0       ┆ 0.595158  ┆ -0.019713 ┆ 0.342079   ┆ 0.500492  │\n",
      "│ 0.009045  ┆ 0.491112  ┆ 0.595158  ┆ 1.0       ┆ -0.081949 ┆ 0.53019    ┆ 0.497017  │\n",
      "│ 0.037389  ┆ -0.051559 ┆ -0.019713 ┆ -0.081949 ┆ 1.0       ┆ -0.007918  ┆ -0.035213 │\n",
      "│ 0.031179  ┆ 0.426213  ┆ 0.342079  ┆ 0.53019   ┆ -0.007918 ┆ 1.0        ┆ 0.431768  │\n",
      "│ -0.002579 ┆ 0.998854  ┆ 0.500492  ┆ 0.497017  ┆ -0.035213 ┆ 0.431768   ┆ 1.0       │\n",
      "└───────────┴───────────┴───────────┴───────────┴───────────┴────────────┴───────────┘\n"
     ]
    },
    {
     "data": {
      "image/png": "[encoded data removed]",
      "text/plain": [
       "<Figure size 640x480 with 2 Axes>"
      ]
     },
     "metadata": {},
     "output_type": "display_data"
    }
   ],
   "source": [
    "# examine relationships among five selected features, along with LogReturn and CloseLag1\n",
    "XStudy = att.select('LogReturn','CloseLag1','HMLLag1','HMLLag3','OMCLag2','VolumeLag3','CloseEMA8')\n",
    "\n",
    "# prepare correlation heat map using seaborn\n",
    "corrMatrix = XStudy.corr()\n",
    "print(corrMatrix)\n",
    "sns.heatmap(corrMatrix, cmap='coolwarm', annot=True)\n",
    "plt.show()"
   ]
  },
  {
   "cell_type": "code",
   "execution_count": 17,
   "metadata": {},
   "outputs": [],
   "source": [
    "# select subset of five columns as features\n",
    "X = att.select('HMLLag1','HMLLag3','OMCLag2','VolumeLag3','CloseEMA8')"
   ]
  },
  {
   "cell_type": "code",
   "execution_count": 18,
   "metadata": {},
   "outputs": [
    {
     "name": "stdout",
     "output_type": "stream",
     "text": [
      "type(all_splits): <class 'list'>  outer list length 5\n",
      "\n",
      "train_0 has 1054 with indices from  0 to 1053\n",
      "test_0 has 1064 with indices from  1064 to 2127\n",
      "\n",
      "train_1 has 2118 with indices from  0 to 2117\n",
      "test_1 has 1064 with indices from  2128 to 3191\n",
      "\n",
      "train_2 has 3182 with indices from  0 to 3181\n",
      "test_2 has 1064 with indices from  3192 to 4255\n",
      "\n",
      "train_3 has 4246 with indices from  0 to 4245\n",
      "test_3 has 1064 with indices from  4256 to 5319\n",
      "\n",
      "train_4 has 5310 with indices from  0 to 5309\n",
      "test_4 has 1064 with indices from  5320 to 6383\n"
     ]
    }
   ],
   "source": [
    "# Splitting the datasets into train and test sets\n",
    "# gap is the number of samples to exclude from \n",
    "# the end of each train set and before the next test set.\n",
    "tscv = TimeSeriesSplit(gap=10, n_splits=5)\n",
    "\n",
    "all_splits = list(tscv.split(X, y))\n",
    "train_0, test_0 = all_splits[0]\n",
    "train_1, test_1 = all_splits[1]\n",
    "train_2, test_2 = all_splits[2]\n",
    "train_3, test_3 = all_splits[3]\n",
    "train_4, test_4 = all_splits[4]\n",
    "\n",
    "# examine the objects created for cross-validation splits\n",
    "print(\"type(all_splits):\", type(all_splits), \" outer list length\", len(all_splits))\n",
    "print()\n",
    "print(\"train_0 has\",len(train_0),\"with indices from \",min(train_0),\"to\",max(train_0))\n",
    "print(\"test_0 has\",len(test_0),\"with indices from \",min(test_0),\"to\",max(test_0))\n",
    "print()\n",
    "print(\"train_1 has\",len(train_1),\"with indices from \",min(train_1),\"to\",max(train_1))\n",
    "print(\"test_1 has\",len(test_1),\"with indices from \",min(test_1),\"to\",max(test_1))\n",
    "print()\n",
    "print(\"train_2 has\",len(train_2),\"with indices from \",min(train_2),\"to\",max(train_2))\n",
    "print(\"test_2 has\",len(test_2),\"with indices from \",min(test_2),\"to\",max(test_2))\n",
    "print()\n",
    "print(\"train_3 has\",len(train_3),\"with indices from \",min(train_3),\"to\",max(train_3))\n",
    "print(\"test_3 has\",len(test_3),\"with indices from \",min(test_3),\"to\",max(test_3))\n",
    "print()\n",
    "print(\"train_4 has\",len(train_4),\"with indices from \",min(train_4),\"to\",max(train_4))\n",
    "print(\"test_4 has\",len(test_4),\"with indices from \",min(test_4),\"to\",max(test_4))\n",
    "\n",
    "# to see all indices we can uncomment these statements\n",
    "# print(\"elements of all_splits list of lists,\\n shows index numbers for each the five lists\")\n",
    "# print(all_splits)"
   ]
  },
  {
   "cell_type": "code",
   "execution_count": 19,
   "metadata": {},
   "outputs": [],
   "source": [
    "model = XGBClassifier(objective='binary:logistic', n_estimators=1000, random_state=2025)"
   ]
  },
  {
   "cell_type": "code",
   "execution_count": 20,
   "metadata": {},
   "outputs": [
    {
     "name": "stdout",
     "output_type": "stream",
     "text": [
      "Mean model.n_estimators = 1000.0\n"
     ]
    },
    {
     "data": {
      "text/plain": [
       "(np.float64(0.4947368421052632), np.float64(0.016490009172527288))"
      ]
     },
     "execution_count": 20,
     "metadata": {},
     "output_type": "execute_result"
    }
   ],
   "source": [
    "def evaluate(model, X, y, cv, model_prop=None, model_step=None):\n",
    "    cv_results = cross_validate(\n",
    "        model,\n",
    "        X,\n",
    "        y,\n",
    "        cv=cv,\n",
    "        scoring=[\"accuracy\"],\n",
    "        return_estimator=model_prop is not None,\n",
    "    )\n",
    "    if model_prop is not None:\n",
    "        if model_step is not None:\n",
    "            values = [\n",
    "                getattr(m[model_step], model_prop) for m in cv_results[\"estimator\"]\n",
    "            ]\n",
    "        else:\n",
    "            values = [getattr(m, model_prop) for m in cv_results[\"estimator\"]]\n",
    "        print(f\"Mean model.{model_prop} = {np.mean(values)}\")\n",
    "    accuracy = -cv_results[\"test_accuracy\"]\n",
    "\n",
    "    # print used in earlier testing\n",
    "    # print(\n",
    "    #    f\"Mean Accuracy:     {-accuracy.mean():.3f} +/- {accuracy.std():.3f}\\n\"\n",
    "    # )\n",
    "    return (-accuracy.mean(), accuracy.std())\n",
    "    \n",
    "evaluate(model, X, y, cv=tscv, model_prop=\"n_estimators\")\n",
    "\n"
   ]
  },
  {
   "cell_type": "code",
   "execution_count": 21,
   "metadata": {},
   "outputs": [
    {
     "name": "stdout",
     "output_type": "stream",
     "text": [
      "Mean model.n_estimators = 1000.0\n",
      "Mean Accuracy:     0.495 +/- 0.016\n",
      "\n"
     ]
    }
   ],
   "source": [
    "# print results from evaluate\n",
    "accuracyMean, accuracyStd = evaluate(model, X, y, cv=tscv, model_prop=\"n_estimators\")\n",
    "print(\n",
    "        f\"Mean Accuracy:     {accuracyMean:.3f} +/- {accuracyStd:.3f}\\n\"\n",
    "     )"
   ]
  },
  {
   "cell_type": "code",
   "execution_count": 22,
   "metadata": {},
   "outputs": [
    {
     "name": "stdout",
     "output_type": "stream",
     "text": [
      "Best parameters: {'learning_rate': np.float64(0.08964522558051516), 'max_depth': 6, 'min_child_weight': 5, 'n_estimators': 881, 'subsample': np.float64(0.8014120643245294)}\n",
      "Best score: 0.5058270676691728\n"
     ]
    }
   ],
   "source": [
    "# Randomized search to find the best set of hyperparameters\n",
    "\n",
    "param_dist = {\n",
    "    'max_depth': randint(3, 10),\n",
    "    'min_child_weight': randint(1, 10),\n",
    "    'subsample': uniform(0.5, 1),\n",
    "    'learning_rate': uniform(0.01, 0.1),\n",
    "    'n_estimators': randint(100, 1000),\n",
    "}\n",
    "xgb_model = xgb.XGBClassifier(objective='binary:logistic', use_label_encoder=False, eval_metric='logloss', random_state=2025)\n",
    "\n",
    "random_search = RandomizedSearchCV(\n",
    "    estimator=xgb_model,\n",
    "    param_distributions=param_dist,\n",
    "    n_iter=100, # Number of parameter settings that are sampled.\n",
    "    scoring='accuracy',\n",
    "    cv = TimeSeriesSplit(gap=10, n_splits=5),\n",
    "    random_state=2025,\n",
    "    n_jobs=-1 # Use all available cores\n",
    ")\n",
    "\n",
    "random_search.fit(X, y)\n",
    "\n",
    "print(\"Best parameters:\", random_search.best_params_)\n",
    "print(\"Best score:\", random_search.best_score_)"
   ]
  },
  {
   "cell_type": "code",
   "execution_count": 23,
   "metadata": {},
   "outputs": [
    {
     "data": {
      "text/plain": [
       "<sklearn.metrics._plot.roc_curve.RocCurveDisplay at 0x187847e96d0>"
      ]
     },
     "execution_count": 23,
     "metadata": {},
     "output_type": "execute_result"
    },
    {
     "data": {
      "image/png": "[encoded data removed]",
      "text/plain": [
       "<Figure size 640x480 with 1 Axes>"
      ]
     },
     "metadata": {},
     "output_type": "display_data"
    }
   ],
   "source": [
    "# final model evaluation\n",
    "finalModel = XGBClassifier(objective='binary:logistic', eval_metric='logloss', random_state=2025,\n",
    "                          max_depth = 9, min_child_weight = 9, subsample = 0.50, learning_rate = 0.09, n_estimators = 273)\n",
    "\n",
    "finalModel.fit(X, y)\n",
    "ypred = finalModel.predict(X)\n",
    "RocCurveDisplay.from_predictions(y, ypred)\n",
    "                    "
   ]
  },
  {
   "cell_type": "code",
   "execution_count": 24,
   "metadata": {},
   "outputs": [
    {
     "name": "stdout",
     "output_type": "stream",
     "text": [
      "Confusion Matrix\n",
      "[[2599  505]\n",
      " [ 422 2858]]\n"
     ]
    },
    {
     "data": {
      "image/png": "[encoded data removed]",
      "text/plain": [
       "<Figure size 640x480 with 2 Axes>"
      ]
     },
     "metadata": {},
     "output_type": "display_data"
    }
   ],
   "source": [
    "print(\"Confusion Matrix\")\n",
    "print(confusion_matrix(y, ypred))\n",
    "disp = ConfusionMatrixDisplay.from_predictions(y, ypred,\n",
    "                              display_labels =[\"Negative Return\",\"Positive Return\"],\n",
    "                                              cmap = plt.cm.Blues)\n",
    "plt.title(\"Confusion Matrix for Returns\")\n",
    "plt.xlabel(\"Predicted Return\")\n",
    "plt.ylabel(\"Actual Return\")\n",
    "plt.tight_layout()\n",
    "plt.show()                              "
   ]
  },
  {
   "cell_type": "code",
   "execution_count": 25,
   "metadata": {},
   "outputs": [
    {
     "name": "stdout",
     "output_type": "stream",
     "text": [
      "              precision    recall  f1-score   support\n",
      "\n",
      "           0       0.86      0.84      0.85      3104\n",
      "           1       0.85      0.87      0.86      3280\n",
      "\n",
      "   micro avg       0.85      0.85      0.85      6384\n",
      "   macro avg       0.86      0.85      0.85      6384\n",
      "weighted avg       0.85      0.85      0.85      6384\n",
      "\n"
     ]
    }
   ],
   "source": [
    "print(classification_report(y, ypred, labels = [\"0\",\"1\"]))"
   ]
  },
  {
   "cell_type": "markdown",
   "metadata": {},
   "source": [
    "## References\n",
    "\n",
    "* [yfinance GitHub](https://github.com/ranaroussi/yfinance)\n",
    "* [yfinance Documentation](https://ranaroussi.github.io/yfinance/)\n",
    "* [Polars Online User Guide](https://docs.pola.rs/)\n",
    "* [Build Polars Database](https://www.pyquantnews.com/free-python-resources/build-stock-database-locally-with-polars)\n",
    "* [YouTube. Polars and Time Series: What It Can Do, and How to Overcome Any Limitation](https://www.youtube.com/watch?v=qz-zAHBz6Ks)\n",
    "* [Awesome Quant: Python for Quantiative Finance](https://wilsonfreitas.github.io/awesome-quant/)\n",
    "* [Cross-validation](https://scikit-learn.org/stable/modules/cross_validation.html)\n",
    "* [TimeSeriesSplit](https://scikit-learn.org/stable/modules/generated/sklearn.model_selection.TimeSeriesSplit.html)\n",
    "* [RandomizedSearchCV](https://scikit-learn.org/stable/modules/generated/sklearn.model_selection.RandomizedSearchCV.html)\n",
    "* [Hyperparameter Tuning](https://scikit-learn.org/stable/modules/grid_search.html#grid-search)\n",
    "* [Metrics and Scoring](https://scikit-learn.org/stable/modules/model_evaluation.html#scoring-parameter)\n",
    "* [Introduction to Boosted Trees](https://xgboost.readthedocs.io/en/latest/tutorials/model.html)\n",
    "* [XGBoost documentation](https://xgboost.readthedocs.io/en/latest/index.html)\n",
    "* [XGBoost in Python documentation](https://xgboost-clone.readthedocs.io/en/latest/python/python_intro.html)\n",
    "* [Auto-Sklearn for AutoML in an Scikit-Learn Environment](https://www.automl.org/automl-for-x/tabular-data/auto-sklearn/)."
   ]
  },
  {
   "cell_type": "code",
   "execution_count": null,
   "metadata": {},
   "outputs": [],
   "source": []
  }
 ],
 "metadata": {
  "kernelspec": {
   "display_name": "Python 3",
   "language": "python",
   "name": "python3"
  },
  "language_info": {
   "codemirror_mode": {
    "name": "ipython",
    "version": 3
   },
   "file_extension": ".py",
   "mimetype": "text/x-python",
   "name": "python",
   "nbconvert_exporter": "python",
   "pygments_lexer": "ipython3",
   "version": "3.11.9"
  },
  "nbTranslate": {
   "displayLangs": [
    "*"
   ],
   "hotkey": "alt-t",
   "langInMainMenu": true,
   "sourceLang": "en",
   "targetLang": "fr",
   "useGoogleTranslate": true
  },
  "toc": {
   "base_numbering": 1,
   "nav_menu": {},
   "number_sections": true,
   "sideBar": true,
   "skip_h1_title": true,
   "title_cell": "Table of Contents",
   "title_sidebar": "Contents",
   "toc_cell": false,
   "toc_position": {
    "height": "calc(100% - 180px)",
    "left": "10px",
    "top": "150px",
    "width": "341.331543px"
   },
   "toc_section_display": true,
   "toc_window_display": false
  },
  "toc-autonumbering": false,
  "toc-showtags": false,
  "varInspector": {
   "cols": {
    "lenName": 16,
    "lenType": 16,
    "lenVar": 40
   },
   "kernels_config": {
    "python": {
     "delete_cmd_postfix": "",
     "delete_cmd_prefix": "del ",
     "library": "var_list.py",
     "varRefreshCmd": "print(var_dic_list())"
    },
    "r": {
     "delete_cmd_postfix": ") ",
     "delete_cmd_prefix": "rm(",
     "library": "var_list.r",
     "varRefreshCmd": "cat(var_dic_list()) "
    }
   },
   "types_to_exclude": [
    "module",
    "function",
    "builtin_function_or_method",
    "instance",
    "_Feature"
   ],
   "window_display": false
  }
 },
 "nbformat": 4,
 "nbformat_minor": 4
}
